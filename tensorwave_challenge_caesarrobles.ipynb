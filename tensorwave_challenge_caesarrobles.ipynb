{
  "nbformat": 4,
  "nbformat_minor": 0,
  "metadata": {
    "colab": {
      "provenance": []
    },
    "kernelspec": {
      "name": "python3",
      "display_name": "Python 3"
    },
    "language_info": {
      "name": "python"
    }
  },
  "cells": [
    {
      "cell_type": "markdown",
      "source": [
        "# Tensorwave GPT Sentiment Analysis Challenge"
      ],
      "metadata": {
        "id": "3UdUudcQNSEa"
      }
    },
    {
      "cell_type": "markdown",
      "source": [
        "Welcome to the Tensorwave GPT Sentiment Analysis Challenge! Sentiment analysis is a powerful tool in natural language processing (NLP) that helps determine the underlying sentiment in textual data. This challenge focuses on analyzing tweets about ChatGPT, annotated for sentiment using ChatGPT itself.\n",
        "\n",
        "Your task is to preprocess this unique dataset and train sentiment classifiers using both a Support Vector Machine (SVM) and a Neural Network (NN) model. Compare the results of these models to determine which is more effective for sentiment analysis of social media data.\n",
        "\n",
        "We encourage you to document your thought process, experiment with different approaches, and be prepared to explain your decisions. This challenge is not just about getting the right answer but understanding the \"why\" behind your methods.\n"
      ],
      "metadata": {
        "id": "8BymdMXxOFtY"
      }
    },
    {
      "cell_type": "markdown",
      "source": [],
      "metadata": {
        "id": "8WPr1Ku0TCKb"
      }
    },
    {
      "cell_type": "markdown",
      "source": [
        "# Install modules that are not installed by default"
      ],
      "metadata": {
        "id": "L0FwdskDHP2B"
      }
    },
    {
      "cell_type": "code",
      "execution_count": 28,
      "metadata": {
        "id": "GQ18Kd5F3uKe",
        "colab": {
          "base_uri": "https://localhost:8080/"
        },
        "outputId": "fed92cba-4a37-4371-d2da-8406ea28680c"
      },
      "outputs": [
        {
          "output_type": "stream",
          "name": "stdout",
          "text": [
            "Requirement already satisfied: contractions in /usr/local/lib/python3.10/dist-packages (0.1.73)\n",
            "Requirement already satisfied: textsearch>=0.0.21 in /usr/local/lib/python3.10/dist-packages (from contractions) (0.0.24)\n",
            "Requirement already satisfied: anyascii in /usr/local/lib/python3.10/dist-packages (from textsearch>=0.0.21->contractions) (0.3.2)\n",
            "Requirement already satisfied: pyahocorasick in /usr/local/lib/python3.10/dist-packages (from textsearch>=0.0.21->contractions) (2.1.0)\n"
          ]
        }
      ],
      "source": [
        "# contractions is not installed by default\n",
        "!pip install contractions"
      ]
    },
    {
      "cell_type": "markdown",
      "source": [
        "#Setup"
      ],
      "metadata": {
        "id": "MHka8O7oOok1"
      }
    },
    {
      "cell_type": "code",
      "source": [
        "# importing essential libraries\n",
        "import pandas as pd\n",
        "import numpy as np\n",
        "import matplotlib.pyplot as plt\n",
        "import seaborn as sns\n",
        "import re\n",
        "import contractions\n",
        "from gensim.parsing.preprocessing import remove_stopwords\n",
        "from sklearn.feature_extraction.text import CountVectorizer\n",
        "from sklearn import svm\n",
        "import tensorflow as tf\n",
        "from sklearn.model_selection import train_test_split\n",
        "from sklearn.metrics import accuracy_score\n",
        "from sklearn.metrics import f1_score\n",
        "from sklearn.metrics import recall_score\n",
        "from sklearn.metrics import precision_score\n",
        "from sklearn.metrics import precision_recall_fscore_support\n",
        "from math import floor"
      ],
      "metadata": {
        "id": "DquryP9TYZwP"
      },
      "execution_count": 29,
      "outputs": []
    },
    {
      "cell_type": "markdown",
      "source": [
        "## Load Dataset"
      ],
      "metadata": {
        "id": "OgoW1ezDPYmt"
      }
    },
    {
      "cell_type": "code",
      "source": [
        "url = 'https://drive.google.com/file/d/1O6PAzQd808rWNxkyL3ToO3qpaBlvQ2zC/view?usp=share_link'\n",
        "path = 'https://drive.google.com/uc?export=download&id='+url.split('/')[-2]\n",
        "df=pd.read_csv(path, index_col=0)"
      ],
      "metadata": {
        "id": "T573CKjaZmuJ"
      },
      "execution_count": 30,
      "outputs": []
    },
    {
      "cell_type": "markdown",
      "source": [
        "## Exploratory Data Analysis\n",
        "\n",
        "In this section, we will analyze the dataset to uncover insights that may inform our preprocessing and modeling decisions. Consider anything that may impact model performance."
      ],
      "metadata": {
        "id": "N0SlMJ1qJrOo"
      }
    },
    {
      "cell_type": "code",
      "source": [
        "# Example EDA: Sentiment distribution\n",
        "sns.countplot(x='labels', data=df)\n",
        "plt.title('Distribution of Sentiment Classes')\n",
        "plt.show()\n",
        "\n",
        "# there is a lot of \\n symbols and hashtages, links, mentions that need to be removed"
      ],
      "metadata": {
        "id": "UocGTIc3Ydme",
        "colab": {
          "base_uri": "https://localhost:8080/",
          "height": 472
        },
        "outputId": "5f70a197-16a7-40e0-9a81-bc25ffaec8df"
      },
      "execution_count": 31,
      "outputs": [
        {
          "output_type": "display_data",
          "data": {
            "text/plain": [
              "<Figure size 640x480 with 1 Axes>"
            ],
            "image/png": "[encoded data removed]"
          },
          "metadata": {}
        }
      ]
    },
    {
      "cell_type": "markdown",
      "source": [
        "## Preprocessing\n",
        "\n",
        "social media text is messy so we will clean it\n",
        "- Cleaning URLs, hashtags, and mentions, \\n string, extra spaces, numbers, emojis, non-alphabet characters, making words lowercase\n",
        "- expand contractions\n",
        "- Tokenizing and removing stop words.\n",
        "- Vectorizing text data for the SVM model.\n",
        "\n",
        "Getting a random sample of the data so it does not take long to train the models\n",
        "\n",
        "Also splitting data into training and test data"
      ],
      "metadata": {
        "id": "7nW_sZdVKIp9"
      }
    },
    {
      "cell_type": "code",
      "source": [
        "# preprocessing\n",
        "# extract the tweets input feature and the labels output feature (good, bad, neutral)\n",
        "tweets = df['tweets']\n",
        "tweets = np.array(tweets)\n",
        "labels = df['labels']\n",
        "labels = np.array(labels)\n",
        "\n",
        "\n",
        "# function to clean tweets of\n",
        "# clean tweets of hashtags, mentions, links, emojis, literal '\\n' and any other characters that are not in the alphabet\n",
        "def clean_tweet(tweet):\n",
        "    # Convert the tweet to lowercase\n",
        "    cleaned_tweet = tweet.lower()\n",
        "\n",
        "    # Expand contractions\n",
        "    cleaned_tweet = contractions.fix(cleaned_tweet)\n",
        "\n",
        "    # Remove literal '\\n' string\n",
        "    cleaned_tweet = cleaned_tweet.replace(r'\\n', '')\n",
        "\n",
        "    # Remove links\n",
        "    cleaned_tweet = re.sub(r'http\\S+|www\\S+|https\\S+', '', cleaned_tweet)\n",
        "\n",
        "    # Remove mentions\n",
        "    cleaned_tweet = re.sub(r'@\\w+', '', cleaned_tweet)\n",
        "\n",
        "    # Remove hashtags\n",
        "    cleaned_tweet = re.sub(r'#\\w+', '', cleaned_tweet)\n",
        "\n",
        "    # Remove emojis\n",
        "    cleaned_tweet = cleaned_tweet.encode('ascii', 'ignore').decode('ascii')\n",
        "\n",
        "    # Remove punctuations\n",
        "    cleaned_tweet = re.sub(r'[^\\w\\s]', '', cleaned_tweet)\n",
        "\n",
        "    # remove non alphabet characters\n",
        "    cleaned_tweet = re.sub(r'[^a-zA-Z\\s]', '', cleaned_tweet)\n",
        "\n",
        "    # Remove numbers\n",
        "    cleaned_tweet = re.sub(r'\\d+', '', cleaned_tweet)\n",
        "\n",
        "    # Remove extra spaces\n",
        "    cleaned_tweet = re.sub(r'\\s+', ' ', cleaned_tweet).strip()\n",
        "\n",
        "    return cleaned_tweet\n",
        "\n",
        "\n",
        "# function to get random sample of a numpy array of input features and numpy array of output features\n",
        "def get_random_sample(input_features, output_features, sample_size):\n",
        "    # Shuffle the indices of the dataset\n",
        "    num_samples = input_features.shape[0]\n",
        "    shuffled_indices = np.random.permutation(num_samples)\n",
        "\n",
        "    # select a random sample of indices\n",
        "    random_sample_indices = shuffled_indices[:sample_size]\n",
        "\n",
        "    # Extract the corresponding samples from both input and output arrays\n",
        "    input_sample = input_features[random_sample_indices]\n",
        "    output_sample = output_features[random_sample_indices]\n",
        "    return input_sample, output_sample\n",
        "\n",
        "\n",
        "# going through all tweets and cleaning them, and removing stop words\n",
        "for x in range(0, len(tweets)):\n",
        "    tweets[x] = clean_tweet(tweets[x])\n",
        "    tweets[x] = remove_stopwords(tweets[x])\n",
        "\n",
        "# changing output features (labels) to numbers: good=0, neutral=1, bad =2\n",
        "Y = []\n",
        "for label in labels:\n",
        "    if label == \"good\":\n",
        "        Y.append(0)\n",
        "    elif label == \"neutral\":\n",
        "        Y.append(1)\n",
        "    else:\n",
        "        Y.append(2)\n",
        "# converting Y into numpy array\n",
        "Y = np.array(Y)\n",
        "\n",
        "# getting random sample of data because it is too big to train and test on my machine (getting 8% of data)\n",
        "test_sample_size = floor((len(tweets) * 0.08))\n",
        "random_input_sample, random_output_sample = get_random_sample(tweets, Y, test_sample_size)\n",
        "print(f\"random input sample: {random_input_sample} \\n\")\n",
        "print(f\"random output sample: {random_output_sample} \\n\")\n",
        "\n",
        "# tokenization of the tweets, remove words/features that only show up once, and vectorization of the words\n",
        "vectorizer = CountVectorizer(min_df=2)\n",
        "X = vectorizer.fit_transform(random_input_sample)\n",
        "Y = random_output_sample\n",
        "# printing feature info\n",
        "print(\"-\" * 100)\n",
        "print(f\" number of input features: {X.shape[1]}\")\n",
        "print(\"-\" * 1000)\n",
        "print(f\" rows: {X.shape[0]}\")\n",
        "print(f\" columns: {X.shape[1]}\")\n",
        "print(\"length of output features\", len(Y))\n",
        "\n",
        "# splitting data into training and test data\n",
        "x_train, x_test, y_train, y_test = train_test_split(X, Y, test_size=0.2)\n",
        "\n",
        "# ..."
      ],
      "metadata": {
        "id": "F1ShgG24YgOw"
      },
      "execution_count": null,
      "outputs": []
    },
    {
      "cell_type": "markdown",
      "source": [
        "## Modeling (SVM)\n",
        "First, we'll train a Support Vector Machine model using Scikit-Learn."
      ],
      "metadata": {
        "id": "QT0oiGozK5Ri"
      }
    },
    {
      "cell_type": "code",
      "source": [
        "# training svm model\n",
        "clf = svm.SVC(decision_function_shape='ovo')\n",
        "clf.fit(x_train, y_train)\n",
        "y_prediction_training = clf.predict(x_train)\n",
        "y_prediction_test = clf.predict(x_test)"
      ],
      "metadata": {
        "id": "iV88BHuSYhxh"
      },
      "execution_count": null,
      "outputs": []
    },
    {
      "cell_type": "markdown",
      "source": [
        "## Modeling (NN)\n",
        "\n",
        "Training a Neural Network model using tensorflow."
      ],
      "metadata": {
        "id": "qmNm7vK_LY-X"
      }
    },
    {
      "cell_type": "code",
      "source": [
        "x_train_array = x_train.toarray()\n",
        "x_test_array = x_test.toarray()\n",
        "y_train_category = tf.keras.utils.to_categorical(y_train)\n",
        "y_test_category = tf.keras.utils.to_categorical(y_test)\n",
        "\n",
        "# Defining the architecture of your neural network\n",
        "model = tf.keras.Sequential([\n",
        "    tf.keras.layers.Dense(64, activation='relu', input_shape=(X.shape[1],)),\n",
        "    tf.keras.layers.Dense(32, activation='relu'),\n",
        "    tf.keras.layers.Dense(3, activation='softmax')\n",
        "])\n",
        "\n",
        "# Compile the model\n",
        "model.compile(optimizer='adam',\n",
        "              loss='categorical_crossentropy',\n",
        "              metrics=['accuracy'])\n",
        "\n",
        "# Train the model\n",
        "model.fit(x_train_array, y_train_category, epochs=10, batch_size=32)"
      ],
      "metadata": {
        "id": "MK-A1BVBYlYI"
      },
      "execution_count": null,
      "outputs": []
    },
    {
      "cell_type": "markdown",
      "source": [
        "## Summary\n",
        "\n",
        "Comparing performance of both models using metrics such as accuracy, precision, recall, and F1 score. And discussing how they can be improved."
      ],
      "metadata": {
        "id": "Z_7C18buLfol"
      }
    },
    {
      "cell_type": "code",
      "source": [
        "print(\"\\n------------------ Evaluation metrics of NN model from tensorflow ------------------\")\n",
        "# Evaluate the model on training data\n",
        "train_loss, train_accuracy = model.evaluate(x_train_array, y_train_category)\n",
        "# predict on train data\n",
        "y_pred = model.predict(x_train_array)\n",
        "y_pred_classes = tf.argmax(y_pred, axis=1)\n",
        "# Calculate precision, recall, and F1 scores\n",
        "precision, recall, f1, _ = precision_recall_fscore_support(y_train, y_pred_classes, average=None)\n",
        "print(\"For training data: \")\n",
        "print(f'Training Loss: {train_loss}')\n",
        "print(f'Training Accuracy: {train_accuracy}')\n",
        "for i in range(len(precision)):\n",
        "    print(f'Class {i}: Precision={precision[i]}, Recall={recall[i]}, F1 Score={f1[i]}')\n",
        "print(\"\\n\")\n",
        "\n",
        "# Predict on test data\n",
        "y_pred = model.predict(x_test_array)\n",
        "y_pred_classes = tf.argmax(y_pred, axis=1)\n",
        "# Calculate precision, recall, and F1 scores\n",
        "precision, recall, f1, _ = precision_recall_fscore_support(y_test, y_pred_classes, average=None)\n",
        "print(\"For test data: \")\n",
        "# Evaluate the model on test data\n",
        "test_loss, test_accuracy = model.evaluate(x_test_array, y_test_category)\n",
        "print(f'Test Loss: {test_loss}')\n",
        "print(f'Test Accuracy: {test_accuracy}')\n",
        "# Print precision, recall, and F1 scores for each class\n",
        "for i in range(len(precision)):\n",
        "    print(f'Class {i}: Precision={precision[i]}, Recall={recall[i]}, F1 Score={f1[i]}')\n",
        "print(\"----------------------------------------------------------------------------------\\n\")\n",
        "\n",
        "\n",
        "print(\"\\n------------------ Evaluation metrics of SVM model from sklearn ------------------\")\n",
        "# the accuracy score for the training and test data\n",
        "print(f\"Accuracy score for the training data: {accuracy_score(y_train, y_prediction_training)}\\n\")\n",
        "print(f\"Accuracy score for the test data: {accuracy_score(y_test, y_prediction_test)}\\n\")\n",
        "\n",
        "# the recall scores for the training and test data\n",
        "training_recall_scores = recall_score(y_train, y_prediction_training, average=None)\n",
        "test_recall_scores = recall_score(y_test, y_prediction_test, average=None)\n",
        "print(f\"Recall scores for the training data: {training_recall_scores}: \")\n",
        "print(f\"recall training score for good label: {training_recall_scores[0]}\")\n",
        "print(f\"recall training score for neutral label: {training_recall_scores[1]}\")\n",
        "print(f\"recall training score for bad label: {training_recall_scores[2]}\")\n",
        "print(\"\\n\")\n",
        "print(f\"Recall scores for the test data: {test_recall_scores}: \")\n",
        "print(f\"recall test score for good label: {test_recall_scores[0]}\")\n",
        "print(f\"recall test score for neutral label: {test_recall_scores[1]}\")\n",
        "print(f\"recall test score for bad label: {test_recall_scores[2]}\\n\")\n",
        "\n",
        "# the f1 score for the training and test data\n",
        "training_f1_scores = f1_score(y_train, y_prediction_training, average=None)\n",
        "test_f1_scores = f1_score(y_test, y_prediction_test, average=None)\n",
        "print(f\"f1 scores for the training data: {training_f1_scores}: \")\n",
        "print(f\"f1 training score for good label: {training_f1_scores[0]}\")\n",
        "print(f\"f1 training score for neutral label: {training_f1_scores[1]}\")\n",
        "print(f\"f1 training score for bad label: {training_f1_scores[2]}\")\n",
        "print(\"\\n\")\n",
        "print(f\"f1 scores for the test data: {test_f1_scores}: \")\n",
        "print(f\"f1 test score for good label: {test_f1_scores[0]}\")\n",
        "print(f\"f1 test score for neutral label: {test_f1_scores[1]}\")\n",
        "print(f\"f1 test score for bad label: {test_f1_scores[2]}\")\n",
        "print(\"\\n\")\n",
        "\n",
        "# the precision score for the training and test data\n",
        "training_precision_scores = precision_score(y_train, y_prediction_training, average=None)\n",
        "test_precision_scores = precision_score(y_test, y_prediction_test, average=None)\n",
        "print(f\"Precision scores for the training data: {training_precision_scores}: \")\n",
        "print(f\"Precision training score for good label: {training_precision_scores[0]}\")\n",
        "print(f\"Precision training score for neutral label: {training_precision_scores[1]}\")\n",
        "print(f\"Precision training score for bad label: {training_precision_scores[2]}\")\n",
        "print(\"\\n\")\n",
        "print(f\"Precision scores for the test data: {test_precision_scores}: \")\n",
        "print(f\"Precision test score for good label: {test_precision_scores[0]}\")\n",
        "print(f\"Precision test score for neutral label: {test_precision_scores[1]}\")\n",
        "print(f\"Precision test score for bad label: {test_precision_scores[2]}\")\n",
        "print(\"----------------------------------------------------------------------------------\\n\")\n",
        "\n",
        "#When it comes to accuracy the NN model is slightly better when looking at the test data 77% vs 75%.\n",
        "# But it is still around the same accuracy for the test data. This means both the models perform the same when it comes to accuracy.\n",
        "# For the training data both models do very well when it comes to accuracy over 90% and are significantly better than on the test data.\n",
        "# This shows that the model is being overfitted as there is a significant drop-off in performance (90-70) from training accuracy to test accuracy.\n",
        "# This overfitting is also shown in the recall scores, f1 scores, and precision score for the most part when comparing the training and test results.\n",
        "# But there is an exception in the SVM model, for the recall training score for the bad label 99% vs 93% for the test data is not bad at all.\n",
        "# This means the SVM model did a good job identifying class 2 which were the bad tweets. But it does not do as well for the good and neutral classes 74% and 40%. It does a bad job at identifying neutral tweets.\n",
        "#This is also shown by the f1 and precision scores.\n",
        "# For the NN model there was also an exception or at least when it came to the bad tweets it had the best performance when looking at precision, recall, and the f1 Score for the test data.\n",
        "# Overall, the NN model is slightly better than the SVM model.\n",
        "# Both the models could be improved by reducing the input features. It does not need to be that complex, there are probably a lot of words that do not have a ton of meaning for the model and because it overfits the training data for both models.\n",
        "#They would also be better by using the entire dataset instead of a random sample, but training the model would take much longer in that case. I have waited a very long time and done it and get 85% accuracy with still a bit of overfitting.\n",
        "\n"
      ],
      "metadata": {
        "id": "0AwplHK-YsWK"
      },
      "execution_count": null,
      "outputs": []
    },
    {
      "cell_type": "markdown",
      "source": [
        "## Conclusion\n",
        "\n",
        "In this challenge, you've explored the application of SVM and Neural Networks to sentiment analysis on tweets about ChatGPT. Through EDA, preprocessing, and modeling, you've gained insights into the data and the performance of different types of models.\n",
        "\n",
        "We encourage you to continue experimenting with different models, preprocessing techniques, and even dataset compositions to further your understanding of NLP and sentiment analysis.\n",
        "\n"
      ],
      "metadata": {
        "id": "71jDzVctRZ6G"
      }
    }
  ]
}